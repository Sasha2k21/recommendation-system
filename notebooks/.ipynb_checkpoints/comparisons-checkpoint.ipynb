{
 "cells": [
  {
   "cell_type": "code",
   "execution_count": null,
   "id": "c1ff1cd6",
   "metadata": {},
   "outputs": [],
   "source": [
    "from pyspark.sql import SparkSession\n",
    "from pyspark.ml.recommendation import ALS\n",
    "from pyspark.ml.evaluation import RegressionEvaluator\n",
    "from pyspark.sql.functions import explode"
   ]
  },
  {
   "cell_type": "code",
   "execution_count": 8,
   "id": "6295a78c",
   "metadata": {},
   "outputs": [],
   "source": [
    "# Create Spark session\n",
    "spark = SparkSession.builder.appName(\"RecommenderSystem\").getOrCreate()\n",
    "\n",
    "# Load ratings and movies\n",
    "ratings = spark.read.csv(\"data/ratings.csv\", header=True, inferSchema=True)\n",
    "movies = spark.read.csv(\"data/movies.csv\", header=True, inferSchema=True)\n",
    "\n",
    "# Train-test split\n",
    "(training, test) = ratings.randomSplit([0.8, 0.2], seed=42)"
   ]
  },
  {
   "cell_type": "code",
   "execution_count": 3,
   "id": "389eaf38",
   "metadata": {},
   "outputs": [
    {
     "name": "stdout",
     "output_type": "stream",
     "text": [
      "+-------+------------+-----------------+---------------------------------------------------------------------------+---------------------------+\n",
      "|movieId|rating_count|avg_rating       |title                                                                      |genres                     |\n",
      "+-------+------------+-----------------+---------------------------------------------------------------------------+---------------------------+\n",
      "|318    |317         |4.429022082018927|Shawshank Redemption, The (1994)                                           |Crime|Drama                |\n",
      "|858    |192         |4.2890625        |Godfather, The (1972)                                                      |Crime|Drama                |\n",
      "|2959   |218         |4.272935779816514|Fight Club (1999)                                                          |Action|Crime|Drama|Thriller|\n",
      "|1276   |57          |4.271929824561403|Cool Hand Luke (1967)                                                      |Drama                      |\n",
      "|750    |97          |4.268041237113402|Dr. Strangelove or: How I Learned to Stop Worrying and Love the Bomb (1964)|Comedy|War                 |\n",
      "|904    |84          |4.261904761904762|Rear Window (1954)                                                         |Mystery|Thriller           |\n",
      "|1221   |129         |4.25968992248062 |Godfather: Part II, The (1974)                                             |Crime|Drama                |\n",
      "|48516  |107         |4.252336448598131|Departed, The (2006)                                                       |Crime|Drama|Thriller       |\n",
      "|1213   |126         |4.25             |Goodfellas (1990)                                                          |Crime|Drama                |\n",
      "|912    |100         |4.24             |Casablanca (1942)                                                          |Drama|Romance              |\n",
      "+-------+------------+-----------------+---------------------------------------------------------------------------+---------------------------+\n",
      "only showing top 10 rows\n",
      "\n"
     ]
    }
   ],
   "source": [
    "from pyspark.sql import functions as F\n",
    "\n",
    "'''\n",
    "Pyspark Dataframe API\n",
    "'''\n",
    "\n",
    "# Step 1: Group by movieId, count & average rating\n",
    "movie_stats = ratings.groupBy(\"movieId\").agg(\n",
    "    F.count(\"rating\").alias(\"rating_count\"),\n",
    "    F.avg(\"rating\").alias(\"avg_rating\")\n",
    ")\n",
    "\n",
    "# Step 2: Filter for popular movies (e.g. 50+ ratings)\n",
    "popular_movies = movie_stats.filter(\"rating_count >= 50\")\n",
    "\n",
    "# Step 3: Join with movie titles\n",
    "popular_movies = popular_movies.join(movies, on=\"movieId\", how=\"inner\")\n",
    "\n",
    "# Step 4: Sort by average rating\n",
    "top_movies_df = popular_movies.orderBy(\"avg_rating\", ascending=False)\n",
    "\n",
    "top_movies_df.show(10, truncate=False)\n"
   ]
  },
  {
   "cell_type": "code",
   "execution_count": null,
   "id": "cd8d08e6",
   "metadata": {},
   "outputs": [
    {
     "name": "stdout",
     "output_type": "stream",
     "text": [
      "+-------+---------------------------------------------------------------------------+------------+-----------------+\n",
      "|movieId|title                                                                      |rating_count|avg_rating       |\n",
      "+-------+---------------------------------------------------------------------------+------------+-----------------+\n",
      "|318    |Shawshank Redemption, The (1994)                                           |317         |4.429022082018927|\n",
      "|858    |Godfather, The (1972)                                                      |192         |4.2890625        |\n",
      "|2959   |Fight Club (1999)                                                          |218         |4.272935779816514|\n",
      "|1276   |Cool Hand Luke (1967)                                                      |57          |4.271929824561403|\n",
      "|750    |Dr. Strangelove or: How I Learned to Stop Worrying and Love the Bomb (1964)|97          |4.268041237113402|\n",
      "|904    |Rear Window (1954)                                                         |84          |4.261904761904762|\n",
      "|1221   |Godfather: Part II, The (1974)                                             |129         |4.25968992248062 |\n",
      "|48516  |Departed, The (2006)                                                       |107         |4.252336448598131|\n",
      "|1213   |Goodfellas (1990)                                                          |126         |4.25             |\n",
      "|912    |Casablanca (1942)                                                          |100         |4.24             |\n",
      "+-------+---------------------------------------------------------------------------+------------+-----------------+\n",
      "only showing top 10 rows\n",
      "\n"
     ]
    }
   ],
   "source": [
    "\n",
    "\n",
    "# Register DataFrames as views\n",
    "ratings.createOrReplaceTempView(\"ratings\")\n",
    "movies.createOrReplaceTempView(\"movies\")\n",
    "\n",
    "# Use SQL to get top movies with 50+ ratings\n",
    "query = \"\"\"\n",
    "SELECT \n",
    "    r.movieId,\n",
    "    m.title,\n",
    "    COUNT(r.rating) AS rating_count,\n",
    "    AVG(r.rating) AS avg_rating\n",
    "FROM ratings r\n",
    "JOIN movies m ON r.movieId = m.movieId\n",
    "GROUP BY r.movieId, m.title\n",
    "HAVING COUNT(r.rating) >= 50\n",
    "ORDER BY avg_rating DESC\n",
    "\"\"\"\n",
    "\n",
    "top_movies_sql = spark.sql(query)\n",
    "top_movies_sql.show(10, truncate=False)\n"
   ]
  }
 ],
 "metadata": {
  "kernelspec": {
   "display_name": "base",
   "language": "python",
   "name": "python3"
  },
  "language_info": {
   "codemirror_mode": {
    "name": "ipython",
    "version": 3
   },
   "file_extension": ".py",
   "mimetype": "text/x-python",
   "name": "python",
   "nbconvert_exporter": "python",
   "pygments_lexer": "ipython3",
   "version": "3.11.6"
  }
 },
 "nbformat": 4,
 "nbformat_minor": 5
}
