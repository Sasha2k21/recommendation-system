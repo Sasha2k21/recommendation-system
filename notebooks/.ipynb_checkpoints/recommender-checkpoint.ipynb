{
 "cells": [
  {
   "cell_type": "code",
   "execution_count": 12,
   "id": "b4346c67",
   "metadata": {},
   "outputs": [],
   "source": [
    "from pyspark.sql import SparkSession\n",
    "from pyspark.ml.recommendation import ALS\n",
    "from pyspark.ml.evaluation import RegressionEvaluator\n",
    "from pyspark.sql.functions import explode"
   ]
  },
  {
   "cell_type": "code",
   "execution_count": 13,
   "id": "650a64d8",
   "metadata": {},
   "outputs": [
    {
     "name": "stdout",
     "output_type": "stream",
     "text": [
      "+------+-------+------+---------+\n",
      "|userId|movieId|rating|timestamp|\n",
      "+------+-------+------+---------+\n",
      "|     1|      1|   4.0|964982703|\n",
      "|     1|      3|   4.0|964981247|\n",
      "|     1|      6|   4.0|964982224|\n",
      "|     1|     47|   5.0|964983815|\n",
      "|     1|     50|   5.0|964982931|\n",
      "+------+-------+------+---------+\n",
      "only showing top 5 rows\n",
      "\n"
     ]
    }
   ],
   "source": [
    "'''\n",
    "ALS Model Implementation and Evalution\n",
    "\n",
    "- Use collaborative filtering for predicting user preferences.\n",
    "- Leverage distributed data processing with Spark for scalability.\n",
    "- Evaluate performance using RMSE and other accuracy metrics.\n",
    "'''\n",
    "\n",
    "'''\n",
    "Step 1: Initialize Spark Session and Load Data\n",
    "We create a Spark session which enables distributed data processing.\n",
    "We then load the ratings and movies datasets, inferring schema from the CSVs.\n",
    "'''\n",
    "# Create Spark session\n",
    "spark = SparkSession.builder.appName(\"RecommenderSystem\").getOrCreate()\n",
    "\n",
    "# Load ratings\n",
    "ratings = spark.read.csv(\"data/ratings.csv\", header=True, inferSchema=True)\n",
    "ratings.show(5)"
   ]
  },
  {
   "cell_type": "code",
   "execution_count": 14,
   "id": "c71f4d72",
   "metadata": {},
   "outputs": [
    {
     "name": "stdout",
     "output_type": "stream",
     "text": [
      "+-------+--------------------+--------------------+\n",
      "|movieId|               title|              genres|\n",
      "+-------+--------------------+--------------------+\n",
      "|      1|    Toy Story (1995)|Adventure|Animati...|\n",
      "|      2|      Jumanji (1995)|Adventure|Childre...|\n",
      "|      3|Grumpier Old Men ...|      Comedy|Romance|\n",
      "|      4|Waiting to Exhale...|Comedy|Drama|Romance|\n",
      "|      5|Father of the Bri...|              Comedy|\n",
      "+-------+--------------------+--------------------+\n",
      "only showing top 5 rows\n",
      "\n"
     ]
    }
   ],
   "source": [
    "movies = spark.read.csv(\"data/movies.csv\", header=True, inferSchema=True)\n",
    "movies.show(5)\n"
   ]
  },
  {
   "cell_type": "code",
   "execution_count": 15,
   "id": "a8a5df58",
   "metadata": {},
   "outputs": [],
   "source": [
    "# Drop any missing ratings (just in case)\n",
    "ratings = ratings.dropna()\n",
    "\n",
    "# Split into training and test sets\n",
    "(training, test) = ratings.randomSplit([0.8, 0.2], seed=42)\n"
   ]
  },
  {
   "cell_type": "code",
   "execution_count": 16,
   "id": "5ce1a80a",
   "metadata": {},
   "outputs": [],
   "source": [
    "'''\n",
    "Define ALS Model\n",
    "'''\n",
    "\n",
    "# ALS model setup\n",
    "als = ALS(\n",
    "    userCol=\"userId\",\n",
    "    itemCol=\"movieId\",\n",
    "    ratingCol=\"rating\",\n",
    "    nonnegative=True,\n",
    "    implicitPrefs=False,  \n",
    "    coldStartStrategy=\"drop\",\n",
    "    rank=10,\n",
    "    maxIter=10,\n",
    "    regParam=0.1\n",
    ")\n",
    "\n",
    "# Train the model\n",
    "model = als.fit(training)\n"
   ]
  },
  {
   "cell_type": "code",
   "execution_count": 17,
   "id": "2439c466",
   "metadata": {},
   "outputs": [
    {
     "name": "stdout",
     "output_type": "stream",
     "text": [
      "Root-mean-square error = 0.8775\n",
      "Mean Absolute Error = 0.8775\n"
     ]
    }
   ],
   "source": [
    "'''\n",
    "Generate Predictions and Evaluate the Model\n",
    "Transform the test data to generate predictions.\n",
    "Evaluate the predictions using RMSE and MAE.\n",
    "'''\n",
    "\n",
    "# Predict on test data\n",
    "predictions = model.transform(test)\n",
    "\n",
    "# Evaluate using RMSE\n",
    "evaluator = RegressionEvaluator(\n",
    "    metricName=\"rmse\",\n",
    "    labelCol=\"rating\",\n",
    "    predictionCol=\"prediction\"\n",
    ")\n",
    "\n",
    "rmse = evaluator.evaluate(predictions)\n",
    "print(f\"Root-mean-square error = {rmse:.4f}\")\n",
    "mae = evaluator.evaluate(predictions)\n",
    "print(f\"Mean Absolute Error = {mae:.4f}\")\n"
   ]
  },
  {
   "cell_type": "code",
   "execution_count": 18,
   "id": "56257b77",
   "metadata": {},
   "outputs": [
    {
     "name": "stdout",
     "output_type": "stream",
     "text": [
      "+------+----------------------------------------------------------------------------------------------------+\n",
      "|userId|recommendations                                                                                     |\n",
      "+------+----------------------------------------------------------------------------------------------------+\n",
      "|1     |[{25771, 6.0337763}, {96004, 5.8452325}, {3379, 5.8452325}, {58301, 5.7855854}, {177593, 5.7263403}]|\n",
      "|2     |[{112804, 4.9427156}, {3925, 4.924061}, {131724, 4.9036756}, {84847, 4.807758}, {136469, 4.774132}] |\n",
      "|3     |[{6835, 4.834569}, {5746, 4.834569}, {5181, 4.804334}, {4518, 4.739325}, {461, 4.6875343}]          |\n",
      "|4     |[{49932, 5.514815}, {25825, 5.233558}, {95182, 5.010171}, {3851, 4.924841}, {527, 4.8506794}]       |\n",
      "|5     |[{4642, 4.99642}, {26326, 4.942303}, {25771, 4.895912}, {96004, 4.811766}, {3379, 4.811766}]        |\n",
      "+------+----------------------------------------------------------------------------------------------------+\n",
      "only showing top 5 rows\n",
      "\n",
      "+-------+----------------------------------------------------------------------------------------+\n",
      "|movieId|recommendations                                                                         |\n",
      "+-------+----------------------------------------------------------------------------------------+\n",
      "|1      |[{53, 5.1464105}, {276, 5.0165005}, {43, 4.988127}, {452, 4.8640404}, {1, 4.863293}]    |\n",
      "|12     |[{413, 4.1199994}, {238, 3.7632332}, {53, 3.7587256}, {546, 3.7577336}, {344, 3.754876}]|\n",
      "|13     |[{20, 3.780363}, {85, 3.6409388}, {58, 3.565556}, {224, 3.5424583}, {409, 3.515288}]    |\n",
      "|22     |[{53, 4.593775}, {43, 4.424326}, {452, 4.308899}, {276, 4.2834496}, {93, 4.279987}]     |\n",
      "|26     |[{543, 4.5863314}, {43, 4.466738}, {58, 4.389132}, {250, 4.3676796}, {224, 4.345143}]   |\n",
      "+-------+----------------------------------------------------------------------------------------+\n",
      "only showing top 5 rows\n",
      "\n"
     ]
    }
   ],
   "source": [
    "'''\n",
    "Step 5: Generate Recommendations\n",
    "Recommend top 5 movies for each user and top 5 users for each movie.\n",
    "'''\n",
    "\n",
    "# Recommend top 5 movies for each user\n",
    "user_recs = model.recommendForAllUsers(5)\n",
    "user_recs.show(5, truncate=False)\n",
    "\n",
    "# Recommend top 5 users for each movie\n",
    "movie_recs = model.recommendForAllItems(5)\n",
    "movie_recs.show(5, truncate=False)\n"
   ]
  },
  {
   "cell_type": "code",
   "execution_count": 19,
   "id": "21f03a30",
   "metadata": {},
   "outputs": [
    {
     "name": "stdout",
     "output_type": "stream",
     "text": [
      "+------+-------------------------------------------------------------------------------------------------+\n",
      "|userId|recommendations                                                                                  |\n",
      "+------+-------------------------------------------------------------------------------------------------+\n",
      "|123   |[{33649, 4.954631}, {171495, 4.7426}, {184245, 4.691401}, {134796, 4.691401}, {117531, 4.691401}]|\n",
      "+------+-------------------------------------------------------------------------------------------------+\n",
      "\n"
     ]
    }
   ],
   "source": [
    "# Showing top-N recommendation example for single user\n",
    "user_id = 123 \n",
    "user_recs.filter(f\"userId == {user_id}\").show(truncate=False)\n"
   ]
  },
  {
   "cell_type": "code",
   "execution_count": 22,
   "id": "444ef2d2",
   "metadata": {},
   "outputs": [],
   "source": [
    "flat_recs = user_recs.withColumn(\"rec\", explode(\"recommendations\")) \\\n",
    "    .select(\"userId\", \"rec.movieId\", \"rec.rating\")\n",
    "\n",
    "flat_recs = flat_recs.join(movies, on=\"movieId\", how=\"left\") \\\n",
    "    .select(\"userId\", \"movieId\", \"title\", \"rating\")\n",
    "\n",
    "flat_recs.write.mode(\"overwrite\").parquet(\"data/recommendations.parquet\")\n"
   ]
  },
  {
   "cell_type": "code",
   "execution_count": null,
   "id": "c47a1bdb-b4ff-48e4-84a2-67b9966a8746",
   "metadata": {},
   "outputs": [],
   "source": []
  }
 ],
 "metadata": {
  "kernelspec": {
   "display_name": "Python 3 (ipykernel)",
   "language": "python",
   "name": "python3"
  },
  "language_info": {
   "codemirror_mode": {
    "name": "ipython",
    "version": 3
   },
   "file_extension": ".py",
   "mimetype": "text/x-python",
   "name": "python",
   "nbconvert_exporter": "python",
   "pygments_lexer": "ipython3",
   "version": "3.11.6"
  }
 },
 "nbformat": 4,
 "nbformat_minor": 5
}
