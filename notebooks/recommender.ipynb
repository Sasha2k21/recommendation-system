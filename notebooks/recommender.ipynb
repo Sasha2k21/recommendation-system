{
 "cells": [
  {
   "cell_type": "code",
   "execution_count": 1,
   "id": "b4346c67",
   "metadata": {},
   "outputs": [],
   "source": [
    "from pyspark.sql import SparkSession\n",
    "from pyspark.ml.recommendation import ALS\n",
    "from pyspark.ml.evaluation import RegressionEvaluator\n",
    "from pyspark.sql.functions import explode"
   ]
  },
  {
   "cell_type": "code",
   "execution_count": 10,
   "id": "650a64d8",
   "metadata": {},
   "outputs": [
    {
     "name": "stdout",
     "output_type": "stream",
     "text": [
      "+------+-------+------+---------+\n",
      "|userId|movieId|rating|timestamp|\n",
      "+------+-------+------+---------+\n",
      "|     1|      1|   4.0|964982703|\n",
      "|     1|      3|   4.0|964981247|\n",
      "|     1|      6|   4.0|964982224|\n",
      "|     1|     47|   5.0|964983815|\n",
      "|     1|     50|   5.0|964982931|\n",
      "+------+-------+------+---------+\n",
      "only showing top 5 rows\n",
      "\n"
     ]
    }
   ],
   "source": [
    "'''\n",
    "ALS Model Implementation and Evalution\n",
    "\n",
    "- Use collaborative filtering for predicting user preferences.\n",
    "- Leverage distributed data processing with Spark for scalability.\n",
    "- Evaluate performance using RMSE and other accuracy metrics.\n",
    "'''\n",
    "\n",
    "'''\n",
    "Initialize Spark Session and Load Data\n",
    "We create a Spark session which enables distributed data processing.\n",
    "We then load the ratings and movies datasets, inferring schema from the CSVs.\n",
    "'''\n",
    "spark = SparkSession.builder.appName(\"RecommenderSystem\").getOrCreate()\n",
    "\n",
    "# Load ratings\n",
    "ratings = spark.read.csv(\"data/ratings.csv\", header=True, inferSchema=True)\n",
    "ratings.show(5)"
   ]
  },
  {
   "cell_type": "code",
   "execution_count": 3,
   "id": "c71f4d72",
   "metadata": {},
   "outputs": [
    {
     "name": "stdout",
     "output_type": "stream",
     "text": [
      "+-------+--------------------+--------------------+\n",
      "|movieId|               title|              genres|\n",
      "+-------+--------------------+--------------------+\n",
      "|      1|    Toy Story (1995)|Adventure|Animati...|\n",
      "|      2|      Jumanji (1995)|Adventure|Childre...|\n",
      "|      3|Grumpier Old Men ...|      Comedy|Romance|\n",
      "|      4|Waiting to Exhale...|Comedy|Drama|Romance|\n",
      "|      5|Father of the Bri...|              Comedy|\n",
      "+-------+--------------------+--------------------+\n",
      "only showing top 5 rows\n",
      "\n"
     ]
    }
   ],
   "source": [
    "movies = spark.read.csv(\"data/movies.csv\", header=True, inferSchema=True)\n",
    "movies.show(5)\n"
   ]
  },
  {
   "cell_type": "code",
   "execution_count": 4,
   "id": "a8a5df58",
   "metadata": {},
   "outputs": [],
   "source": [
    "# Drop any missing ratings (just in case)\n",
    "ratings = ratings.dropna()\n",
    "\n",
    "# Split into training and test sets\n",
    "(training, test) = ratings.randomSplit([0.8, 0.2], seed=42)\n"
   ]
  },
  {
   "cell_type": "code",
   "execution_count": 5,
   "id": "5ce1a80a",
   "metadata": {},
   "outputs": [],
   "source": [
    "'''\n",
    "Define ALS Model\n",
    "'''\n",
    "\n",
    "als = ALS(\n",
    "    userCol=\"userId\",\n",
    "    itemCol=\"movieId\",\n",
    "    ratingCol=\"rating\",\n",
    "    nonnegative=True,\n",
    "    implicitPrefs=False,  \n",
    "    coldStartStrategy=\"drop\",\n",
    "    rank=10,\n",
    "    maxIter=10,\n",
    "    regParam=0.1\n",
    ")\n",
    "\n",
    "# Train the model\n",
    "model = als.fit(training)\n"
   ]
  },
  {
   "cell_type": "code",
   "execution_count": 6,
   "id": "2439c466",
   "metadata": {},
   "outputs": [
    {
     "name": "stdout",
     "output_type": "stream",
     "text": [
      "Root-mean-square error = 0.8763\n",
      "Mean Absolute Error = 0.8763\n"
     ]
    }
   ],
   "source": [
    "'''\n",
    "Generate Predictions and Evaluate the Model\n",
    "Transform the test data to generate predictions.\n",
    "Evaluate the predictions using RMSE and MAE.\n",
    "'''\n",
    "\n",
    "# Predict on test data\n",
    "predictions = model.transform(test)\n",
    "\n",
    "# Evaluate using RMSE\n",
    "evaluator = RegressionEvaluator(\n",
    "    metricName=\"rmse\",\n",
    "    labelCol=\"rating\",\n",
    "    predictionCol=\"prediction\"\n",
    ")\n",
    "\n",
    "rmse = evaluator.evaluate(predictions)\n",
    "print(f\"Root-mean-square error = {rmse:.4f}\")\n",
    "mae = evaluator.evaluate(predictions)\n",
    "print(f\"Mean Absolute Error = {mae:.4f}\")\n"
   ]
  },
  {
   "cell_type": "code",
   "execution_count": 11,
   "id": "56257b77",
   "metadata": {},
   "outputs": [
    {
     "name": "stdout",
     "output_type": "stream",
     "text": [
      "+------+--------------------------------------------------------------------------------------------------+\n",
      "|userId|recommendations                                                                                   |\n",
      "+------+--------------------------------------------------------------------------------------------------+\n",
      "|1     |[{132333, 5.6624475}, {25771, 5.638621}, {53123, 5.633347}, {5915, 5.615384}, {177593, 5.612128}] |\n",
      "|2     |[{131724, 4.9002333}, {32892, 4.840149}, {84847, 4.764653}, {86377, 4.708737}, {96004, 4.6554093}]|\n",
      "|3     |[{6835, 4.8810706}, {5746, 4.8810706}, {5181, 4.836154}, {4518, 4.7304206}, {2851, 4.6392922}]    |\n",
      "|4     |[{158872, 5.1896887}, {2693, 5.115418}, {55276, 5.0818286}, {3846, 5.04871}, {6380, 4.984668}]    |\n",
      "|5     |[{25771, 5.532932}, {3266, 5.1395226}, {8477, 4.96207}, {71899, 4.909962}, {1262, 4.9055862}]     |\n",
      "+------+--------------------------------------------------------------------------------------------------+\n",
      "only showing top 5 rows\n",
      "\n",
      "+-------+----------------------------------------------------------------------------------------+\n",
      "|movieId|recommendations                                                                         |\n",
      "+-------+----------------------------------------------------------------------------------------+\n",
      "|1      |[{53, 5.33162}, {276, 5.173645}, {43, 4.783566}, {267, 4.7835445}, {99, 4.762684}]      |\n",
      "|12     |[{22, 3.9868426}, {461, 3.8692257}, {97, 3.7735167}, {277, 3.709338}, {51, 3.7082803}]  |\n",
      "|13     |[{43, 3.9147096}, {147, 3.8014836}, {20, 3.7563398}, {273, 3.7370543}, {485, 3.7194176}]|\n",
      "|22     |[{53, 5.1271496}, {93, 4.268528}, {12, 4.2672224}, {35, 4.1991405}, {584, 4.1981907}]   |\n",
      "|26     |[{43, 4.705393}, {53, 4.678312}, {485, 4.6128855}, {93, 4.344159}, {402, 4.238085}]     |\n",
      "+-------+----------------------------------------------------------------------------------------+\n",
      "only showing top 5 rows\n",
      "\n"
     ]
    }
   ],
   "source": [
    "'''\n",
    "Generate Recommendations\n",
    "Recommend top 5 movies for each user and top 5 users for each movie.\n",
    "'''\n",
    "\n",
    "# Recommend top 5 movies for each user\n",
    "user_recs = model.recommendForAllUsers(5)\n",
    "user_recs.show(5, truncate=False)\n",
    "\n",
    "# Recommend top 5 users for each movie\n",
    "movie_recs = model.recommendForAllItems(5)\n",
    "movie_recs.show(5, truncate=False)\n"
   ]
  },
  {
   "cell_type": "code",
   "execution_count": 8,
   "id": "21f03a30",
   "metadata": {},
   "outputs": [
    {
     "name": "stdout",
     "output_type": "stream",
     "text": [
      "+------+---------------------------------------------------------------------------------------------------+\n",
      "|userId|recommendations                                                                                    |\n",
      "+------+---------------------------------------------------------------------------------------------------+\n",
      "|123   |[{33649, 4.9499464}, {184245, 4.810007}, {134796, 4.810007}, {117531, 4.810007}, {86237, 4.810007}]|\n",
      "+------+---------------------------------------------------------------------------------------------------+\n",
      "\n"
     ]
    }
   ],
   "source": [
    "# Showing top-N recommendation example for single user\n",
    "user_id = 123 \n",
    "user_recs.filter(f\"userId == {user_id}\").show(truncate=False)\n"
   ]
  },
  {
   "cell_type": "code",
   "execution_count": 9,
   "id": "444ef2d2",
   "metadata": {},
   "outputs": [],
   "source": [
    "flat_recs = user_recs.withColumn(\"rec\", explode(\"recommendations\")) \\\n",
    "    .select(\"userId\", \"rec.movieId\", \"rec.rating\")\n",
    "\n",
    "flat_recs = flat_recs.join(movies, on=\"movieId\", how=\"left\") \\\n",
    "    .select(\"userId\", \"movieId\", \"title\", \"rating\")\n",
    "\n",
    "flat_recs.write.mode(\"overwrite\").parquet(\"data/recommendations.parquet\")\n"
   ]
  },
  {
   "cell_type": "code",
   "execution_count": null,
   "id": "c47a1bdb-b4ff-48e4-84a2-67b9966a8746",
   "metadata": {},
   "outputs": [],
   "source": []
  }
 ],
 "metadata": {
  "kernelspec": {
   "display_name": "Python 3 (ipykernel)",
   "language": "python",
   "name": "python3"
  },
  "language_info": {
   "codemirror_mode": {
    "name": "ipython",
    "version": 3
   },
   "file_extension": ".py",
   "mimetype": "text/x-python",
   "name": "python",
   "nbconvert_exporter": "python",
   "pygments_lexer": "ipython3",
   "version": "3.11.6"
  }
 },
 "nbformat": 4,
 "nbformat_minor": 5
}
